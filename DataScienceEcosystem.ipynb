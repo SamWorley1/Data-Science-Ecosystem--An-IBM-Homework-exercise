{
 "cells": [
  {
   "cell_type": "markdown",
   "metadata": {},
   "source": []
  },
  {
   "cell_type": "markdown",
   "id": "de8380f5",
   "metadata": {},
   "source": [
    "# Data Science Tools and Ecosystem\n",
    "(exercise 2)"
   ]
  },
  {
   "cell_type": "markdown",
   "id": "61ba2548",
   "metadata": {},
   "source": [
    "## Author (Exercise 11)"
   ]
  },
  {
   "cell_type": "markdown",
   "id": "581268d3",
   "metadata": {},
   "source": [
    "Sam Worley"
   ]
  },
  {
   "cell_type": "markdown",
   "id": "d0a11146",
   "metadata": {},
   "source": [
    "## In this notebook, Data Science Tools and Ecosystem are summarized.\n",
    "(exercise 3)\n"
   ]
  },
  {
   "cell_type": "markdown",
   "id": "f9e3b023",
   "metadata": {},
   "source": [
    "__Objectives__ (Exercise 10)"
   ]
  },
  {
   "cell_type": "markdown",
   "id": "ba99452a",
   "metadata": {},
   "source": [
    "- List popular languages for Data Science\n",
    "- List commonly used Libraries\n",
    "- List poular DS tools\n",
    "- Examples of arithmetic expressions "
   ]
  },
  {
   "cell_type": "markdown",
   "id": "db97e6ec",
   "metadata": {},
   "source": [
    "### Some of the popular languages that Data Scientists use are: \n",
    "(exercise 4)"
   ]
  },
  {
   "cell_type": "markdown",
   "id": "f5cbe791",
   "metadata": {},
   "source": [
    "1. Python \n",
    "2. R programming\n",
    "3. SQL"
   ]
  },
  {
   "cell_type": "markdown",
   "id": "d48cc825",
   "metadata": {},
   "source": [
    "### Some of the commonly used libraries used by Data Scientists include:\n",
    "(exercise 5)\n"
   ]
  },
  {
   "cell_type": "markdown",
   "id": "cc91e096",
   "metadata": {},
   "source": [
    "1. Pandas\n",
    "2. numpy\n",
    "3. matplotlib\n",
    "4. tensorflow\n",
    "5. sci-kit learn\n",
    "6. keras"
   ]
  },
  {
   "cell_type": "markdown",
   "id": "676ab9bb",
   "metadata": {},
   "source": [
    "### Exercise 6\n",
    "| Data Science Tools |\n",
    "|---|\n",
    "| Rstudio |\n",
    "| Apache Spark |\n",
    "| Tensorflow |\n",
    "| Apache Hadoop |\n"
   ]
  },
  {
   "cell_type": "markdown",
   "id": "6e702d60",
   "metadata": {},
   "source": [
    "### Below are a few examples of evaluating arithmetic expressions in Python \n",
    "(exercise 7)"
   ]
  },
  {
   "cell_type": "code",
   "execution_count": 23,
   "id": "07ea4b58",
   "metadata": {},
   "outputs": [
    {
     "data": {
      "text/plain": [
       "17"
      ]
     },
     "execution_count": 23,
     "metadata": {},
     "output_type": "execute_result"
    }
   ],
   "source": [
    "#EXERCISE 8\n",
    "#This a simple arithmetic expression to mutiply then add integers\n",
    "(3*4)+5\n"
   ]
  },
  {
   "cell_type": "code",
   "execution_count": 24,
   "id": "68738347",
   "metadata": {},
   "outputs": [],
   "source": [
    "# EXERCISE 9\n",
    "# This will convert 200 minutes to hours by diving by 60\n",
    "def minutestohours(x):\n",
    "    return x/60\n",
    "\n",
    "\n"
   ]
  },
  {
   "cell_type": "code",
   "execution_count": 21,
   "id": "19f4ecf7",
   "metadata": {},
   "outputs": [
    {
     "data": {
      "text/plain": [
       "3.3333333333333335"
      ]
     },
     "execution_count": 21,
     "metadata": {},
     "output_type": "execute_result"
    }
   ],
   "source": [
    "minutestohours(200)"
   ]
  },
  {
   "cell_type": "code",
   "execution_count": null,
   "id": "e0039de8",
   "metadata": {},
   "outputs": [],
   "source": []
  }
 ],
 "metadata": {
  "kernelspec": {
   "display_name": "Python 3 (ipykernel)",
   "language": "python",
   "name": "python3"
  },
  "language_info": {
   "codemirror_mode": {
    "name": "ipython",
    "version": 3
   },
   "file_extension": ".py",
   "mimetype": "text/x-python",
   "name": "python",
   "nbconvert_exporter": "python",
   "pygments_lexer": "ipython3",
   "version": "3.9.12"
  }
 },
 "nbformat": 4,
 "nbformat_minor": 5
}
